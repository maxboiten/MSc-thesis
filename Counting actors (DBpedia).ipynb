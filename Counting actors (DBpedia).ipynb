{
 "cells": [
  {
   "cell_type": "code",
   "execution_count": 1,
   "metadata": {},
   "outputs": [],
   "source": [
    "from codingtools import from_json\n",
    "import pandas as pd\n",
    "from collections import Counter\n",
    "from datetime import date\n",
    "\n",
    "data = 'D:/Thesis/Actors/totaal.json.gz'\n",
    "data_trouw = 'D:/Thesis/Actors/trouw.json.gz'\n",
    "codes = 'D:/Thesis/Actors/tool.json'\n",
    "\n",
    "coded = from_json(open(codes,'r')).coded\n",
    "df = pd.concat([pd.read_json(data), pd.read_json(data_trouw)])\n",
    "df['DATE_dt'] = df['DATE_dt'].apply(lambda x: date.fromtimestamp(x/1000))\n",
    "\n",
    "#Set the unique cases:\n",
    "coded['http://nl.dbpedia.org/resource/Europese_Unie'] = 'not political'\n",
    "coded['http://nl.dbpedia.org/resource/Frans_Timmermans_(politicus)'] = 'FT'\n",
    "coded['http://nl.dbpedia.org/resource/Frits_Bolkestein'] = 'FB'\n",
    "coded['http://nl.dbpedia.org/resource/Donald_Tusk'] = 'DT'\n",
    "coded['http://nl.dbpedia.org/resource/Romano_Prodi'] = 'RP'\n",
    "\n",
    "cases = [('FT', date(year = 2014, month = 8, day = 1), date.today()),\n",
    "         ('FB', date(year = 1999, month = 6, day = 17), date(year = 2004, month = 12, day = 31)),\n",
    "         ('DT', date(year = 2014, month = 12, day = 1), date.today()),\n",
    "         ('RP', date(year = 1999, month = 6, day = 16), date(year = 2004, month = 12, day = 31))]\n",
    "\n",
    "#Count occurrences of unique actors\n",
    "count = lambda x: Counter(map(coded.get,x.keys()))\n",
    "\n",
    "#Is actor in case and the date in the relevant interval?\n",
    "def isInInterval(row, case):\n",
    "    if case[0] in row['counters']:\n",
    "        if case[1] < row['DATE_dt'] < case[2]:\n",
    "            return 1\n",
    "        return 0\n",
    "    return -1      \n",
    "\n",
    "#Run the counters\n",
    "df['counters'] = df['actors'].apply(count)\n",
    "df['Dutch_count'] = df['counters'].apply(lambda x: x['Dutch'])\n",
    "df['European_count'] = df['counters'].apply(lambda x: x['European'])\n",
    "df['Other_national_count'] = df['counters'].apply(lambda x: x['other national'])\n",
    "\n",
    "#Correct for special cases\n",
    "for index,row in df.iterrows():\n",
    "    testFT = isInInterval(row,cases[0])\n",
    "    testFB = isInInterval(row,cases[1])\n",
    "    testDT = isInInterval(row,cases[2])\n",
    "    testRP = isInInterval(row,cases[3])\n",
    "    if testFT == 1:\n",
    "        df['European_count'].at[index] += 1\n",
    "    elif testFT == 0:\n",
    "        df['Dutch_count'].at[index] += 1\n",
    "    if testFB == 1:\n",
    "        df['European_count'].at[index] += 1\n",
    "    elif testFB == 0:\n",
    "        df['Dutch_count'].at[index] += 1\n",
    "    if testDT == 1:\n",
    "        df['European_count'].at[index] += 1\n",
    "    elif testDT == 0:\n",
    "        df['Other_national_count'].at[index] += 1\n",
    "    if testRP == 1:\n",
    "        df['European_count'].at[index] += 1\n",
    "    elif testRP == 0:\n",
    "        df['Other_national_count'].at[index] += 1\n",
    "del testFT,testFB,testDT,testRP\n",
    "\n",
    "df.drop('counters',axis=1,inplace=True)\n",
    "\n",
    "#Code\n",
    "df['type'] = 'None'\n",
    "df.loc[(df['Dutch_count'] == 0) & (df['European_count'] > 0),'type'] = 'Fully European'\n",
    "df.loc[(df['Dutch_count'] > 0) & (df['European_count'] == 0),'type'] = 'Fully national'\n",
    "df.loc[(df['Dutch_count'] > 0) & (df['European_count'] > 0),'type'] = 'Mixed'"
   ]
  },
  {
   "cell_type": "code",
   "execution_count": 42,
   "metadata": {},
   "outputs": [],
   "source": [
    "#Export voor ggplot\n",
    "grouped = df[df['type']!='None'].groupby(['YEAR'])\n",
    "a = (100*grouped['type'].value_counts()/grouped['type'].count())\n",
    "a.unstack().join(grouped['type'].count()).to_csv('D:/Thesis/Actors/counts.csv')\n",
    "\n",
    "tabloidMap = {'Algemeen Dagblad' : 'Tabloid',\n",
    " 'De Telegraaf' : 'Tabloid',\n",
    " 'Het Financieele Dagblad' : 'Quality',\n",
    " 'Metro' : 'Tabloid',\n",
    " 'NRC Handelsblad' : 'Quality',\n",
    " 'NRC.NEXT' : 'Quality',\n",
    " 'Nederlands Dagblad' : 'Quality',\n",
    " 'Reformatorisch Dagblad' : 'Quality',\n",
    " 'Trouw' : 'Quality',\n",
    " 'de Volkskrant' : 'Quality'}\n",
    "\n",
    "df['Paper_type'] = df['MEDIUM'].map(tabloidMap)\n",
    "\n",
    "grouped = df[df['type']!='None'].groupby(['YEAR','Paper_type'])\n",
    "a = grouped['type'].value_counts().unstack()\n",
    "for col in a:\n",
    "    a[col] = 100*a[col]/grouped['type'].count()\n",
    "a.join(grouped['type'].count()).to_csv('D:/Thesis/Actors/papertype_counts.csv')"
   ]
  },
  {
   "cell_type": "code",
   "execution_count": 10,
   "metadata": {},
   "outputs": [],
   "source": [
    "#Table\n",
    "grouped = df[df['type']!='None'].groupby(['MEDIUM'])\n",
    "(100*grouped['type'].value_counts()/grouped['type'].count()).unstack().to_csv('D:/Thesis/Actors/newspaper_bar.csv')"
   ]
  },
  {
   "cell_type": "code",
   "execution_count": 13,
   "metadata": {
    "scrolled": true
   },
   "outputs": [],
   "source": [
    "import datetime\n",
    "random_state = 1530100473 #int(datetime.datetime.now().timestamp)\n",
    "\n",
    "test = df.sample(25,random_state=random_state)\n",
    "test.TEXT = test.TEXT.apply(lambda x: ' '.join(x))\n",
    "test[['DATE_dt','HEADLINE','TEXT','actors']].to_csv('D:/Thesis/Actors/testsample.csv')"
   ]
  },
  {
   "cell_type": "code",
   "execution_count": 8,
   "metadata": {},
   "outputs": [
    {
     "data": {
      "text/plain": [
       "13256"
      ]
     },
     "execution_count": 8,
     "metadata": {},
     "output_type": "execute_result"
    }
   ],
   "source": [
    "def lenMinusEu(actors):\n",
    "    if 'http://nl.dbpedia.org/resource/Europese_Unie' in actors:\n",
    "        return len(actors)-1\n",
    "    return len(actors)\n",
    "\n",
    "    \n",
    "df['actors'].apply(lenMinusEu).value_counts()\n",
    "\n",
    "df.loc[(df['Dutch_count'] == 0) & (df['European_count'] == 0 ) & (df['Other_national_count'] > 0),'type'].count()"
   ]
  }
 ],
 "metadata": {
  "kernelspec": {
   "display_name": "Python 3",
   "language": "python",
   "name": "python3"
  },
  "language_info": {
   "codemirror_mode": {
    "name": "ipython",
    "version": 3
   },
   "file_extension": ".py",
   "mimetype": "text/x-python",
   "name": "python",
   "nbconvert_exporter": "python",
   "pygments_lexer": "ipython3",
   "version": "3.6.3"
  }
 },
 "nbformat": 4,
 "nbformat_minor": 2
}
