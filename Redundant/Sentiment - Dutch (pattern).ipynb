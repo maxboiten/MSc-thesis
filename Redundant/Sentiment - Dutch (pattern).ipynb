{
 "cells": [
  {
   "cell_type": "markdown",
   "metadata": {},
   "source": [
    "# Note: Only works with python 2.5-2.7\n",
    "To check compatibility, run the next cell. It will throw an error if the python version is incompatible.\n",
    "\n",
    "If incompatible, get a different python version (I recommend anaconda environments)"
   ]
  },
  {
   "cell_type": "code",
   "execution_count": null,
   "metadata": {},
   "outputs": [],
   "source": [
    "import sys\n",
    "assert sys.version_info >= (2,5) and sys.version_info < (3,0)"
   ]
  },
  {
   "cell_type": "markdown",
   "metadata": {},
   "source": [
    "### Sentiment for Dutch statements\n",
    "\n",
    "This notebook requires Python 2 (2.5+), because it uses the [pattern](https://www.clips.uantwerpen.be/pages/pattern-nl) package. This is a text mining package for Dutch which supports sentiment analysis."
   ]
  },
  {
   "cell_type": "code",
   "execution_count": 1,
   "metadata": {},
   "outputs": [],
   "source": [
    "from pattern.nl import sentiment as sentiment_tagger\n",
    "from sqlite_db_py27 import thesisDB, duplicateColumn\n",
    "import json\n",
    "import re\n",
    "import seaborn as sns\n",
    "\n",
    "db_file = 'D:/thesis/nl/data.db'\n",
    "db = thesisDB(db_file)\n",
    "\n",
    "settings_file = 'D:/thesis/settings - nl.json'\n",
    "\n",
    "mean = lambda x: sum(x)/len(x)"
   ]
  },
  {
   "cell_type": "code",
   "execution_count": 18,
   "metadata": {},
   "outputs": [],
   "source": [
    "#Get corpus from the DB. Only tokens.\n",
    "cursor = db.getTokens(returnColumns=['lemma','docid','paragraph_no'])\n",
    "\n",
    "corpus = []\n",
    "currentDoc = 1\n",
    "currentParagraph = 1\n",
    "doc = []\n",
    "paragraph = []\n",
    "\n",
    "for token, docid, paragraph_no in cursor:\n",
    "    if docid != currentDoc and doc: #We hit a new document!\n",
    "        doc.append(paragraph)\n",
    "        corpus.append((currentDoc,doc))\n",
    "        paragraph = []\n",
    "        doc = []\n",
    "        currentDoc = docid\n",
    "        currentParagraph = paragraph_no\n",
    "    elif paragraph_no != currentParagraph and paragraph: #New paragraph!\n",
    "        doc.append(paragraph)\n",
    "        paragraph = []\n",
    "        currentParagraph = paragraph_no\n",
    "    paragraph.append(token)\n",
    "\n",
    "doc.append(paragraph)\n",
    "corpus.append((currentDoc,doc))"
   ]
  },
  {
   "cell_type": "code",
   "execution_count": 4,
   "metadata": {},
   "outputs": [],
   "source": [
    "#Pick keywords to signal discussion of EU matters.\n",
    "keywords = ['europees unie','eu','Brussel','europees parlement','europees commissie']"
   ]
  },
  {
   "cell_type": "code",
   "execution_count": 19,
   "metadata": {},
   "outputs": [],
   "source": [
    "##Reconstruct the corpus to fit in the sentiment polarity tagger.\n",
    "words = sorted(keywords, key = len) #Count doesn't matter, so neither does order here.\n",
    "words = [r'\\b'+word+r'\\b' for word in words] #Append word borders so we don't match substrings\n",
    "EU_words = re.compile('|'.join(words))\n",
    "del words\n",
    "\n",
    "corpus_eu = []\n",
    "for docid,doc in corpus:\n",
    "    newdoc = []\n",
    "    for paragraph in doc:\n",
    "        if re.search(EU_words,' '.join(paragraph)):\n",
    "            newdoc.append(paragraph)\n",
    "    corpus_eu.append((docid,newdoc))\n",
    "del docid,doc,newdoc,EU_words"
   ]
  },
  {
   "cell_type": "code",
   "execution_count": 20,
   "metadata": {},
   "outputs": [],
   "source": [
    "sentiment_paragraph = []\n",
    "for docid,doc in corpus_eu:\n",
    "    docSents = []\n",
    "    for paragraph in doc:\n",
    "        docSents.append(sentiment_tagger(paragraph))\n",
    "    sentiment_paragraph.append((docid,docSents))\n",
    "sentiment_doc = [(docid,mean([polarity for polarity, sub in doc])) for docid,doc in sentiment_paragraph if doc]"
   ]
  },
  {
   "cell_type": "code",
   "execution_count": 8,
   "metadata": {},
   "outputs": [
    {
     "name": "stdout",
     "output_type": "stream",
     "text": [
      "Column already exists, proceeding to fill it\n"
     ]
    }
   ],
   "source": [
    "try:\n",
    "    db.addColumn('documents',('polarity','REAL'))\n",
    "except duplicateColumn:\n",
    "    print(\"Column already exists, proceeding to fill it\")\n",
    "    \n",
    "counter = 0\n",
    "for docid,sent in sentiment_doc:\n",
    "    if counter % 50 == 0:\n",
    "        db.updateRow('documents',docid,{'polarity':sent})\n",
    "    else:\n",
    "        db.updateRow('documents',docid,{'polarity':sent}, commit = False)\n",
    "db.commit()"
   ]
  },
  {
   "cell_type": "code",
   "execution_count": null,
   "metadata": {},
   "outputs": [],
   "source": [
    "try:\n",
    "    db.addColumn('documents',('polarity','REAL'))\n",
    "except duplicateColumn:\n",
    "    print(\"Column already exists, proceeding to fill it\")"
   ]
  },
  {
   "cell_type": "code",
   "execution_count": 17,
   "metadata": {},
   "outputs": [
    {
     "data": {
      "text/plain": [
       "<matplotlib.axes._subplots.AxesSubplot at 0xffd7c18>"
      ]
     },
     "execution_count": 17,
     "metadata": {},
     "output_type": "execute_result"
    },
    {
     "data": {
      "image/png": "[encoded data removed]",
      "text/plain": [
       "<matplotlib.figure.Figure at 0xffd7d68>"
      ]
     },
     "metadata": {},
     "output_type": "display_data"
    }
   ],
   "source": [
    "sns.distplot([sent for docid,sent in sentiment_doc])"
   ]
  },
  {
   "cell_type": "code",
   "execution_count": 21,
   "metadata": {},
   "outputs": [
    {
     "data": {
      "text/plain": [
       "<matplotlib.axes._subplots.AxesSubplot at 0xff66fd0>"
      ]
     },
     "execution_count": 21,
     "metadata": {},
     "output_type": "execute_result"
    },
    {
     "data": {
      "image/png": "[encoded data removed]",
      "text/plain": [
       "<matplotlib.figure.Figure at 0xff70c50>"
      ]
     },
     "metadata": {},
     "output_type": "display_data"
    }
   ],
   "source": [
    "sns.distplot([sent for docid,sent in sentiment_doc])"
   ]
  }
 ],
 "metadata": {
  "kernelspec": {
   "display_name": "Python 2",
   "language": "python",
   "name": "python2"
  },
  "language_info": {
   "codemirror_mode": {
    "name": "ipython",
    "version": 2
   },
   "file_extension": ".py",
   "mimetype": "text/x-python",
   "name": "python",
   "nbconvert_exporter": "python",
   "pygments_lexer": "ipython2",
   "version": "2.7.14"
  }
 },
 "nbformat": 4,
 "nbformat_minor": 2
}
