{
 "cells": [
  {
   "cell_type": "code",
   "execution_count": 2,
   "metadata": {
    "collapsed": true
   },
   "outputs": [],
   "source": [
    "from VUSentimentLexiconLight import LexiconSent\n",
    "import spacy\n",
    "from sentPrep import lemmaGetter\n",
    "import re\n",
    "import json\n",
    "import pandas as pd\n",
    "\n",
    "settings_file = 'D:/thesis/settings - nl.json'\n",
    "\n",
    "#Load all necessary pipelines\n",
    "lexicon = LexiconSent('nl')\n",
    "lexicon.negators.add('niet')\n",
    "nlp = spacy.load('nl_core_news_sm')\n",
    "\n",
    "#Update spaCy using pattern predicative pipeline to improve lemmas for adjectives\n",
    "#Note: rule-based for comparative and superlative step are functional, but do not capture exceptions\n",
    "spacy.tokens.Token.set_extension('lemma',getter = lemmaGetter)\n",
    "\n",
    "#Set the method that determines sentiment\n",
    "def getSnippetSentiment(snippet):\n",
    "    doc = nlp(snippet)\n",
    "    lemmas = [token._.lemma for token in doc]\n",
    "    pos_tags = [token.pos_ for token in doc]\n",
    "    return lexicon.getDocSentiment(lemmas,pos_tags,negatorAction = 'flip')\n",
    "\n",
    "sentToInt = lambda x: 1 if x == 'positive' else -1 if x == 'negative' else 0"
   ]
  },
  {
   "cell_type": "code",
   "execution_count": 3,
   "metadata": {
    "collapsed": true
   },
   "outputs": [],
   "source": [
    "#Preparation\n",
    "\n",
    "#Read settings\n",
    "settings = json.loads(open(settings_file).read())[\"settings\"]\n",
    "\n",
    "#Read data\n",
    "df = pd.read_json(settings['mentions_json'], compression = 'gzip')\n",
    "df.sort_index(inplace = True)"
   ]
  },
  {
   "cell_type": "code",
   "execution_count": 4,
   "metadata": {
    "collapsed": true
   },
   "outputs": [],
   "source": [
    "#Set sentiment\n",
    "df['SENTIMENT'] = df['TEXT'].apply(lambda x: sentToInt(getSnippetSentiment(x)))"
   ]
  },
  {
   "cell_type": "code",
   "execution_count": 9,
   "metadata": {
    "collapsed": true
   },
   "outputs": [
    {
     "ename": "TypeError",
     "evalue": "unsupported operand type(s) for /: 'Timestamp' and 'int'",
     "output_type": "error",
     "traceback": [
      "\u001b[1;31m---------------------------------------------------------------------------\u001b[0m",
      "\u001b[1;31mTypeError\u001b[0m                                 Traceback (most recent call last)",
      "\u001b[1;32m<ipython-input-9-67213cd55b49>\u001b[0m in \u001b[0;36m<module>\u001b[1;34m()\u001b[0m\n\u001b[0;32m      1\u001b[0m \u001b[1;32mfrom\u001b[0m \u001b[0mdatetime\u001b[0m \u001b[1;32mimport\u001b[0m \u001b[0mdatetime\u001b[0m\u001b[1;33m\u001b[0m\u001b[0m\n\u001b[1;32m----> 2\u001b[1;33m \u001b[0mdf\u001b[0m\u001b[1;33m[\u001b[0m\u001b[1;34m'DATE_dt'\u001b[0m\u001b[1;33m]\u001b[0m \u001b[1;33m=\u001b[0m \u001b[0mdf\u001b[0m\u001b[1;33m[\u001b[0m\u001b[1;34m'DATE_dt'\u001b[0m\u001b[1;33m]\u001b[0m\u001b[1;33m.\u001b[0m\u001b[0mapply\u001b[0m\u001b[1;33m(\u001b[0m\u001b[1;32mlambda\u001b[0m \u001b[0mx\u001b[0m\u001b[1;33m:\u001b[0m \u001b[0mdatetime\u001b[0m\u001b[1;33m.\u001b[0m\u001b[0mfromtimestamp\u001b[0m\u001b[1;33m(\u001b[0m\u001b[0mx\u001b[0m\u001b[1;33m/\u001b[0m\u001b[1;36m1000\u001b[0m\u001b[1;33m)\u001b[0m\u001b[1;33m)\u001b[0m\u001b[1;33m\u001b[0m\u001b[0m\n\u001b[0m\u001b[0;32m      3\u001b[0m \u001b[0mdf\u001b[0m\u001b[1;33m[\u001b[0m\u001b[1;34m'MONTH_dt'\u001b[0m\u001b[1;33m]\u001b[0m \u001b[1;33m=\u001b[0m \u001b[0mdf\u001b[0m\u001b[1;33m[\u001b[0m\u001b[1;34m'DATE_dt'\u001b[0m\u001b[1;33m]\u001b[0m\u001b[1;33m.\u001b[0m\u001b[0mapply\u001b[0m\u001b[1;33m(\u001b[0m\u001b[1;32mlambda\u001b[0m \u001b[0mx\u001b[0m\u001b[1;33m:\u001b[0m \u001b[0mx\u001b[0m\u001b[1;33m.\u001b[0m\u001b[0mreplace\u001b[0m\u001b[1;33m(\u001b[0m\u001b[0mday\u001b[0m \u001b[1;33m=\u001b[0m \u001b[1;36m1\u001b[0m\u001b[1;33m)\u001b[0m\u001b[1;33m)\u001b[0m\u001b[1;33m\u001b[0m\u001b[0m\n",
      "\u001b[1;32m~\\Anaconda3\\lib\\site-packages\\pandas\\core\\series.py\u001b[0m in \u001b[0;36mapply\u001b[1;34m(self, func, convert_dtype, args, **kwds)\u001b[0m\n\u001b[0;32m   2549\u001b[0m             \u001b[1;32melse\u001b[0m\u001b[1;33m:\u001b[0m\u001b[1;33m\u001b[0m\u001b[0m\n\u001b[0;32m   2550\u001b[0m                 \u001b[0mvalues\u001b[0m \u001b[1;33m=\u001b[0m \u001b[0mself\u001b[0m\u001b[1;33m.\u001b[0m\u001b[0masobject\u001b[0m\u001b[1;33m\u001b[0m\u001b[0m\n\u001b[1;32m-> 2551\u001b[1;33m                 \u001b[0mmapped\u001b[0m \u001b[1;33m=\u001b[0m \u001b[0mlib\u001b[0m\u001b[1;33m.\u001b[0m\u001b[0mmap_infer\u001b[0m\u001b[1;33m(\u001b[0m\u001b[0mvalues\u001b[0m\u001b[1;33m,\u001b[0m \u001b[0mf\u001b[0m\u001b[1;33m,\u001b[0m \u001b[0mconvert\u001b[0m\u001b[1;33m=\u001b[0m\u001b[0mconvert_dtype\u001b[0m\u001b[1;33m)\u001b[0m\u001b[1;33m\u001b[0m\u001b[0m\n\u001b[0m\u001b[0;32m   2552\u001b[0m \u001b[1;33m\u001b[0m\u001b[0m\n\u001b[0;32m   2553\u001b[0m         \u001b[1;32mif\u001b[0m \u001b[0mlen\u001b[0m\u001b[1;33m(\u001b[0m\u001b[0mmapped\u001b[0m\u001b[1;33m)\u001b[0m \u001b[1;32mand\u001b[0m \u001b[0misinstance\u001b[0m\u001b[1;33m(\u001b[0m\u001b[0mmapped\u001b[0m\u001b[1;33m[\u001b[0m\u001b[1;36m0\u001b[0m\u001b[1;33m]\u001b[0m\u001b[1;33m,\u001b[0m \u001b[0mSeries\u001b[0m\u001b[1;33m)\u001b[0m\u001b[1;33m:\u001b[0m\u001b[1;33m\u001b[0m\u001b[0m\n",
      "\u001b[1;32mpandas/_libs/src/inference.pyx\u001b[0m in \u001b[0;36mpandas._libs.lib.map_infer\u001b[1;34m()\u001b[0m\n",
      "\u001b[1;32m<ipython-input-9-67213cd55b49>\u001b[0m in \u001b[0;36m<lambda>\u001b[1;34m(x)\u001b[0m\n\u001b[0;32m      1\u001b[0m \u001b[1;32mfrom\u001b[0m \u001b[0mdatetime\u001b[0m \u001b[1;32mimport\u001b[0m \u001b[0mdatetime\u001b[0m\u001b[1;33m\u001b[0m\u001b[0m\n\u001b[1;32m----> 2\u001b[1;33m \u001b[0mdf\u001b[0m\u001b[1;33m[\u001b[0m\u001b[1;34m'DATE_dt'\u001b[0m\u001b[1;33m]\u001b[0m \u001b[1;33m=\u001b[0m \u001b[0mdf\u001b[0m\u001b[1;33m[\u001b[0m\u001b[1;34m'DATE_dt'\u001b[0m\u001b[1;33m]\u001b[0m\u001b[1;33m.\u001b[0m\u001b[0mapply\u001b[0m\u001b[1;33m(\u001b[0m\u001b[1;32mlambda\u001b[0m \u001b[0mx\u001b[0m\u001b[1;33m:\u001b[0m \u001b[0mdatetime\u001b[0m\u001b[1;33m.\u001b[0m\u001b[0mfromtimestamp\u001b[0m\u001b[1;33m(\u001b[0m\u001b[0mx\u001b[0m\u001b[1;33m/\u001b[0m\u001b[1;36m1000\u001b[0m\u001b[1;33m)\u001b[0m\u001b[1;33m)\u001b[0m\u001b[1;33m\u001b[0m\u001b[0m\n\u001b[0m\u001b[0;32m      3\u001b[0m \u001b[0mdf\u001b[0m\u001b[1;33m[\u001b[0m\u001b[1;34m'MONTH_dt'\u001b[0m\u001b[1;33m]\u001b[0m \u001b[1;33m=\u001b[0m \u001b[0mdf\u001b[0m\u001b[1;33m[\u001b[0m\u001b[1;34m'DATE_dt'\u001b[0m\u001b[1;33m]\u001b[0m\u001b[1;33m.\u001b[0m\u001b[0mapply\u001b[0m\u001b[1;33m(\u001b[0m\u001b[1;32mlambda\u001b[0m \u001b[0mx\u001b[0m\u001b[1;33m:\u001b[0m \u001b[0mx\u001b[0m\u001b[1;33m.\u001b[0m\u001b[0mreplace\u001b[0m\u001b[1;33m(\u001b[0m\u001b[0mday\u001b[0m \u001b[1;33m=\u001b[0m \u001b[1;36m1\u001b[0m\u001b[1;33m)\u001b[0m\u001b[1;33m)\u001b[0m\u001b[1;33m\u001b[0m\u001b[0m\n",
      "\u001b[1;31mTypeError\u001b[0m: unsupported operand type(s) for /: 'Timestamp' and 'int'"
     ]
    }
   ],
   "source": [
    "from datetime import datetime\n",
    "df['DATE_dt'] = df['DATE_dt'].apply(lambda x: datetime.fromtimestamp(x/1000))"
   ]
  },
  {
   "cell_type": "code",
   "execution_count": 13,
   "metadata": {},
   "outputs": [
    {
     "data": {
      "text/plain": [
       "Timestamp('2017-12-01 01:00:00')"
      ]
     },
     "execution_count": 13,
     "metadata": {},
     "output_type": "execute_result"
    }
   ],
   "source": [
    "df['MONTH_dt'][0]"
   ]
  },
  {
   "cell_type": "code",
   "execution_count": 27,
   "metadata": {},
   "outputs": [
    {
     "data": {
      "text/html": [
       "<div>\n",
       "<style scoped>\n",
       "    .dataframe tbody tr th:only-of-type {\n",
       "        vertical-align: middle;\n",
       "    }\n",
       "\n",
       "    .dataframe tbody tr th {\n",
       "        vertical-align: top;\n",
       "    }\n",
       "\n",
       "    .dataframe thead th {\n",
       "        text-align: right;\n",
       "    }\n",
       "</style>\n",
       "<table border=\"1\" class=\"dataframe\">\n",
       "  <thead>\n",
       "    <tr style=\"text-align: right;\">\n",
       "      <th></th>\n",
       "      <th>DATE_dt</th>\n",
       "      <th>HEADLINE</th>\n",
       "      <th>MATCHES</th>\n",
       "      <th>MEDIUM</th>\n",
       "      <th>PARAGRAPH_NO</th>\n",
       "      <th>TEXT</th>\n",
       "      <th>SENTIMENT</th>\n",
       "      <th>MONTH_dt</th>\n",
       "    </tr>\n",
       "  </thead>\n",
       "  <tbody>\n",
       "    <tr>\n",
       "      <th>0</th>\n",
       "      <td>2017-12-28 01:00:00</td>\n",
       "      <td>Europa is terug</td>\n",
       "      <td>[Europese Unie, EU]</td>\n",
       "      <td>de Volkskrant</td>\n",
       "      <td>3</td>\n",
       "      <td>De Europese Unie heeft zich weer opgericht, nu...</td>\n",
       "      <td>1</td>\n",
       "      <td>2017-12-01 01:00:00</td>\n",
       "    </tr>\n",
       "    <tr>\n",
       "      <th>1</th>\n",
       "      <td>2017-12-28 01:00:00</td>\n",
       "      <td>Europa is terug</td>\n",
       "      <td>[EU, EU]</td>\n",
       "      <td>de Volkskrant</td>\n",
       "      <td>6</td>\n",
       "      <td>Voorlopig lijkt het populistische gevaar afgew...</td>\n",
       "      <td>-1</td>\n",
       "      <td>2017-12-01 01:00:00</td>\n",
       "    </tr>\n",
       "    <tr>\n",
       "      <th>2</th>\n",
       "      <td>2017-12-28 01:00:00</td>\n",
       "      <td>Europa is terug</td>\n",
       "      <td>[EU, Europese Unie]</td>\n",
       "      <td>de Volkskrant</td>\n",
       "      <td>8</td>\n",
       "      <td>Martin Schulz, de nieuwe leider van de Duitse ...</td>\n",
       "      <td>1</td>\n",
       "      <td>2017-12-01 01:00:00</td>\n",
       "    </tr>\n",
       "    <tr>\n",
       "      <th>3</th>\n",
       "      <td>2017-12-28 01:00:00</td>\n",
       "      <td>Europa is terug</td>\n",
       "      <td>[Europese Unie]</td>\n",
       "      <td>de Volkskrant</td>\n",
       "      <td>11</td>\n",
       "      <td>De onenigheid over het accepteren van asielzoe...</td>\n",
       "      <td>0</td>\n",
       "      <td>2017-12-01 01:00:00</td>\n",
       "    </tr>\n",
       "    <tr>\n",
       "      <th>4</th>\n",
       "      <td>2017-12-28 01:00:00</td>\n",
       "      <td>Europa is terug</td>\n",
       "      <td>[Europese Unie, Europese Unie]</td>\n",
       "      <td>de Volkskrant</td>\n",
       "      <td>12</td>\n",
       "      <td>De Europese Unie moet leren te leven met inter...</td>\n",
       "      <td>1</td>\n",
       "      <td>2017-12-01 01:00:00</td>\n",
       "    </tr>\n",
       "  </tbody>\n",
       "</table>\n",
       "</div>"
      ],
      "text/plain": [
       "              DATE_dt         HEADLINE                         MATCHES  \\\n",
       "0 2017-12-28 01:00:00  Europa is terug             [Europese Unie, EU]   \n",
       "1 2017-12-28 01:00:00  Europa is terug                        [EU, EU]   \n",
       "2 2017-12-28 01:00:00  Europa is terug             [EU, Europese Unie]   \n",
       "3 2017-12-28 01:00:00  Europa is terug                 [Europese Unie]   \n",
       "4 2017-12-28 01:00:00  Europa is terug  [Europese Unie, Europese Unie]   \n",
       "\n",
       "          MEDIUM  PARAGRAPH_NO  \\\n",
       "0  de Volkskrant             3   \n",
       "1  de Volkskrant             6   \n",
       "2  de Volkskrant             8   \n",
       "3  de Volkskrant            11   \n",
       "4  de Volkskrant            12   \n",
       "\n",
       "                                                TEXT  SENTIMENT  \\\n",
       "0  De Europese Unie heeft zich weer opgericht, nu...          1   \n",
       "1  Voorlopig lijkt het populistische gevaar afgew...         -1   \n",
       "2  Martin Schulz, de nieuwe leider van de Duitse ...          1   \n",
       "3  De onenigheid over het accepteren van asielzoe...          0   \n",
       "4  De Europese Unie moet leren te leven met inter...          1   \n",
       "\n",
       "             MONTH_dt  \n",
       "0 2017-12-01 01:00:00  \n",
       "1 2017-12-01 01:00:00  \n",
       "2 2017-12-01 01:00:00  \n",
       "3 2017-12-01 01:00:00  \n",
       "4 2017-12-01 01:00:00  "
      ]
     },
     "execution_count": 27,
     "metadata": {},
     "output_type": "execute_result"
    }
   ],
   "source": [
    "df.head()"
   ]
  },
  {
   "cell_type": "code",
   "execution_count": 48,
   "metadata": {},
   "outputs": [
    {
     "data": {
      "text/plain": [
       "<matplotlib.axes._subplots.AxesSubplot at 0x1c215914da0>"
      ]
     },
     "execution_count": 48,
     "metadata": {},
     "output_type": "execute_result"
    },
    {
     "data": {
      "image/png": "[encoded data removed]",
      "text/plain": [
       "<matplotlib.figure.Figure at 0x1c215941d30>"
      ]
     },
     "metadata": {},
     "output_type": "display_data"
    }
   ],
   "source": [
    "grouped_data = df.groupby(['DATE_dt','HEADLINE','MEDIUM'])\n",
    "data = grouped_data.mean().reset_index()\n",
    "grouped_data = data.groupby(pd.Grouper(key = 'DATE_dt',freq='3m'))\n",
    "del data\n",
    "grouped_data.mean().reset_index().plot.line(x = 'DATE_dt',y = 'SENTIMENT')"
   ]
  }
 ],
 "metadata": {
  "kernelspec": {
   "display_name": "Python 3",
   "language": "python",
   "name": "python3"
  },
  "language_info": {
   "codemirror_mode": {
    "name": "ipython",
    "version": 3
   },
   "file_extension": ".py",
   "mimetype": "text/x-python",
   "name": "python",
   "nbconvert_exporter": "python",
   "pygments_lexer": "ipython3",
   "version": "3.6.3"
  }
 },
 "nbformat": 4,
 "nbformat_minor": 2
}
