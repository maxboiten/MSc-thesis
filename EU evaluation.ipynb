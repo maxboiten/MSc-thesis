{
 "cells": [
  {
   "cell_type": "markdown",
   "metadata": {},
   "source": [
    "# Find mentions of the EU in articles\n",
    "\n",
    "This notebook searches the news articles to extract the paragraphs that mention EU institutions and gathers these in a pandas DataFrame."
   ]
  },
  {
   "cell_type": "code",
   "execution_count": 1,
   "metadata": {
    "collapsed": true
   },
   "outputs": [],
   "source": [
    "import pandas as pd\n",
    "import json\n",
    "import re\n",
    "\n",
    "settings_file = 'D:/thesis/settings - nl.json'"
   ]
  },
  {
   "cell_type": "code",
   "execution_count": 2,
   "metadata": {
    "collapsed": true
   },
   "outputs": [],
   "source": [
    "#Preparation\n",
    "\n",
    "#Read settings\n",
    "settings = json.loads(open(settings_file).read())[\"settings\"]\n",
    "\n",
    "#Read data\n",
    "df = pd.read_json(settings['data_json'], compression = 'gzip')\n",
    "df.sort_index(inplace = True)"
   ]
  },
  {
   "cell_type": "code",
   "execution_count": 15,
   "metadata": {},
   "outputs": [],
   "source": [
    "#Choose search terms to denote EU\n",
    "terms = ['Europese Unie','EU']\n",
    "terms = sorted(terms, key = len, reverse = True) #Sort by length to fix overlapping patterns.\n",
    "    #Not strictly necessary here, but to register the exact matches this is a nice trick.\n",
    "\n",
    "EU_terms = re.compile('|'.join(terms))\n",
    "\n",
    "terms = ['[^a-zA-Z]'+word+'[^a-zA-Z]' for word in terms]\n",
    "EU_terms_pattern = re.compile('|'.join(terms))\n"
   ]
  },
  {
   "cell_type": "code",
   "execution_count": 63,
   "metadata": {},
   "outputs": [],
   "source": [
    "#Create df with relevant pieces of text\n",
    "EU_snippets = []\n",
    "\n",
    "for row in df.index:\n",
    "    paragraph_no = 0 #Start index at 0!\n",
    "    for text in df.loc[row,'TEXT']:\n",
    "        if re.search(EU_terms_pattern,text) is not None:\n",
    "            snippet = {\n",
    "                'TEXT' : text,\n",
    "                'PARAGRAPH_NO' : paragraph_no,\n",
    "                'MEDIUM' : df.loc[row,'MEDIUM'],\n",
    "                'HEADLINE' : df.loc[row,'HEADLINE'],\n",
    "                'DATE_dt' : df.loc[row,'DATE_dt'],\n",
    "                'MATCHES' : re.findall(EU_terms_pattern,text)\n",
    "            }\n",
    "            snippet['MATCHES'] = [re.search(EU_terms,match)[0] for match in snippet['MATCHES'] if re.search(EU_terms,match) is not None]\n",
    "            EU_snippets.append(snippet)\n",
    "            \n",
    "        paragraph_no += 1\n",
    "\n",
    "EU_snippets = pd.DataFrame(EU_snippets)"
   ]
  },
  {
   "cell_type": "code",
   "execution_count": 72,
   "metadata": {
    "collapsed": true
   },
   "outputs": [],
   "source": [
    "EU_snippets.to_json(settings['mentions_json'], compression = 'gzip')"
   ]
  }
 ],
 "metadata": {
  "kernelspec": {
   "display_name": "Python 3",
   "language": "python",
   "name": "python3"
  },
  "language_info": {
   "codemirror_mode": {
    "name": "ipython",
    "version": 3
   },
   "file_extension": ".py",
   "mimetype": "text/x-python",
   "name": "python",
   "nbconvert_exporter": "python",
   "pygments_lexer": "ipython3",
   "version": "3.6.3"
  }
 },
 "nbformat": 4,
 "nbformat_minor": 2
}
