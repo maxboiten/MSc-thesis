{
 "cells": [
  {
   "cell_type": "code",
   "execution_count": 24,
   "metadata": {},
   "outputs": [],
   "source": [
    "from sqlite_db import thesisDB\n",
    "import re\n",
    "from csv import DictWriter\n",
    "\n",
    "dbAddress = 'D:/Thesis/data.db'\n",
    "output = 'D:/Thesis/corpus_lemma.csv'\n",
    "\n",
    "db = thesisDB(dbAddress)\n",
    "\n",
    "def writeLine(doc):\n",
    "    return str(doc['docid'])+','+noComma(doc['headline'])+','+str(doc['date'])+','+noComma(doc['medium'])+','+doc['text']+'\\n'\n",
    "\n",
    "def noComma(string):\n",
    "    if re.search(',',string):\n",
    "        return '\"'+string+'\"'\n",
    "    return string"
   ]
  },
  {
   "cell_type": "code",
   "execution_count": 25,
   "metadata": {},
   "outputs": [],
   "source": [
    "#lemmatised csv corpus\n",
    "corpus = dict()\n",
    "document = []\n",
    "\n",
    "current_docid = 1\n",
    "for lemma,pos,docid in db.getTokens(returnColumns = ['lemma','pos','docid']):\n",
    "    if pos == 'LET':\n",
    "        continue\n",
    "            \n",
    "    if docid != current_docid:\n",
    "        document.append(lemma)\n",
    "        corpus[current_docid] = {'docid':current_docid,'text':' '.join(document)}\n",
    "        document = []\n",
    "        current_docid = docid\n",
    "    else:\n",
    "        document.append(lemma)\n",
    "\n",
    "for docid,headline,date,medium in db.getDocuments(returnColumns = ['id','headline','date','medium']):\n",
    "    if docid in corpus:\n",
    "        corpus[docid].update({'headline':headline,'date':date,'medium':medium})\n",
    "\n",
    "with open(output,'w+',encoding='utf-8') as f:\n",
    "    writer = DictWriter(f,fieldnames = ['docid','headline','date','medium','text'])\n",
    "    \n",
    "    writer.writeheader()\n",
    "    for _,doc in corpus.items():\n",
    "        writer.writerow(doc)\n",
    "\n",
    "del corpus,document,current_docid   "
   ]
  }
 ],
 "metadata": {
  "kernelspec": {
   "display_name": "Python 3",
   "language": "python",
   "name": "python3"
  },
  "language_info": {
   "codemirror_mode": {
    "name": "ipython",
    "version": 3
   },
   "file_extension": ".py",
   "mimetype": "text/x-python",
   "name": "python",
   "nbconvert_exporter": "python",
   "pygments_lexer": "ipython3",
   "version": "3.6.3"
  }
 },
 "nbformat": 4,
 "nbformat_minor": 2
}
