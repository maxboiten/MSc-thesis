{
 "cells": [
  {
   "cell_type": "code",
   "execution_count": 1,
   "metadata": {},
   "outputs": [
    {
     "name": "stderr",
     "output_type": "stream",
     "text": [
      "C:\\Users\\Max\\Anaconda3\\lib\\site-packages\\gensim\\utils.py:1197: UserWarning: detected Windows; aliasing chunkize to chunkize_serial\n",
      "  warnings.warn(\"detected Windows; aliasing chunkize to chunkize_serial\")\n"
     ]
    }
   ],
   "source": [
    "import gensim\n",
    "import pandas as pd\n",
    "import json\n",
    "from collections import defaultdict\n",
    "import re\n",
    "\n",
    "settings_file = 'D:/thesis/settings - nl.json'"
   ]
  },
  {
   "cell_type": "code",
   "execution_count": 2,
   "metadata": {
    "collapsed": true
   },
   "outputs": [],
   "source": [
    "#Preparation\n",
    "\n",
    "#Read settings\n",
    "settings = json.loads(open(settings_file).read())[\"settings\"]"
   ]
  },
  {
   "cell_type": "code",
   "execution_count": 65,
   "metadata": {
    "collapsed": true
   },
   "outputs": [],
   "source": [
    "#Preparing corpus and dict for gensim LDA\n",
    "\n",
    "#Read data\n",
    "df = pd.read_json(settings['data_json'])\n",
    "df.sort_index(inplace = True)\n",
    "\n",
    "#Prepare data\n",
    "texts = [' '.join(text) for text in df['TEXT']]\n",
    "punct = re.compile('[.,/#!$%\\^&\\*;:{}=\\-_`~()\\'\\\"]')\n",
    "texts = [re.sub(punct,'',text.lower()).split() for text in texts]\n",
    "\n",
    "dictionary = gensim.corpora.Dictionary(texts)\n",
    "\n",
    "corp = [dictionary.doc2bow(text) for text in texts]\n",
    "\n",
    "#Remove words that occur in many documents\n",
    "word_freq = defaultdict(lambda: 0)\n",
    "doc_freq = defaultdict(lambda: 0)\n",
    "\n",
    "for document in corp:\n",
    "    for (word,freq) in document:\n",
    "        word_freq[word] += freq\n",
    "    for (word,freq) in set(document):\n",
    "        doc_freq[word] += 1\n",
    "\n",
    "for key in dictionary:\n",
    "    doc_freq[key] = doc_freq[key] / len(corp)\n",
    "\n",
    "#TODO: drop tokens that occur too often or not often enough\n",
    "min_count = 5\n",
    "freq_range = (0.01,0.8)\n",
    "drop_list = []\n",
    "\n",
    "for key in word_freq:\n",
    "    if (word_freq[key] < min_count) or (freq_range[0] > doc_freq[key]) or (doc_freq[key] > freq_range[1]):\n",
    "        drop_list.append(key)\n",
    "\n",
    "for i in range(len(corp)):\n",
    "    corp[i] = [(word,freq) for word,freq in corp[i] if (word not in drop_list)]"
   ]
  },
  {
   "cell_type": "code",
   "execution_count": 104,
   "metadata": {
    "collapsed": true
   },
   "outputs": [],
   "source": [
    "#Train the model\n",
    "lda = gensim.models.ldamulticore.LdaMulticore(corpus = corp, \n",
    "                                              id2word = dictionary, \n",
    "                                              num_topics = 20, \n",
    "                                              workers = 3,\n",
    "                                              iterations= 10000)"
   ]
  },
  {
   "cell_type": "code",
   "execution_count": 105,
   "metadata": {},
   "outputs": [
    {
     "data": {
      "text/plain": [
       "['die',\n",
       " 'niet',\n",
       " 'zijn',\n",
       " 'aan',\n",
       " 'ook',\n",
       " 'er',\n",
       " 'om',\n",
       " 'maar',\n",
       " 'over',\n",
       " 'als',\n",
       " 'worden',\n",
       " 'europa',\n",
       " 'heeft',\n",
       " 'tot',\n",
       " 'bij',\n",
       " 'nog',\n",
       " 'landen',\n",
       " 'dit',\n",
       " 'meer',\n",
       " 'moet',\n",
       " 'door',\n",
       " 'zal',\n",
       " 'zich',\n",
       " 'hebben',\n",
       " 'kan']"
      ]
     },
     "execution_count": 105,
     "metadata": {},
     "output_type": "execute_result"
    }
   ],
   "source": [
    "[dictionary[word] for word,score in lda.get_topic_terms(0,25)]"
   ]
  }
 ],
 "metadata": {
  "kernelspec": {
   "display_name": "Python 3",
   "language": "python",
   "name": "python3"
  },
  "language_info": {
   "codemirror_mode": {
    "name": "ipython",
    "version": 3
   },
   "file_extension": ".py",
   "mimetype": "text/x-python",
   "name": "python",
   "nbconvert_exporter": "python",
   "pygments_lexer": "ipython3",
   "version": "3.6.3"
  }
 },
 "nbformat": 4,
 "nbformat_minor": 2
}
