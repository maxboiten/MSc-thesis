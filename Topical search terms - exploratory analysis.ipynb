{
 "cells": [
  {
   "cell_type": "code",
   "execution_count": 2,
   "metadata": {},
   "outputs": [
    {
     "name": "stderr",
     "output_type": "stream",
     "text": [
      "C:\\Users\\Max\\Anaconda3\\lib\\site-packages\\gensim\\utils.py:1197: UserWarning: detected Windows; aliasing chunkize to chunkize_serial\n",
      "  warnings.warn(\"detected Windows; aliasing chunkize to chunkize_serial\")\n"
     ]
    }
   ],
   "source": [
    "import gensim\n",
    "import pandas as pd\n",
    "import json\n",
    "from collections import defaultdict\n",
    "import re\n",
    "\n",
    "settings_file = 'D:/thesis/settings - nl.json'"
   ]
  },
  {
   "cell_type": "code",
   "execution_count": 3,
   "metadata": {},
   "outputs": [],
   "source": [
    "#Preparation\n",
    "\n",
    "#Read settings\n",
    "settings = json.loads(open(settings_file).read())[\"settings\"]"
   ]
  },
  {
   "cell_type": "code",
   "execution_count": 4,
   "metadata": {},
   "outputs": [],
   "source": [
    "#Preparing corpus and dict for gensim LDA\n",
    "\n",
    "#Read data\n",
    "df = pd.read_csv(settings['data_csv'])\n",
    "\n",
    "#Prepare data\n",
    "\n",
    "punct = re.compile('[.,/#!$%\\^&\\*;:{}=\\-_`~()\\'\\\"]')\n",
    "df['TEXT'] = df['TEXT'].apply(lambda x: re.sub(punct,'',x.lower()).split())\n",
    "\n",
    "dictionary = gensim.corpora.Dictionary(df['TEXT'])\n",
    "\n",
    "corp = [dictionary.doc2bow(text) for text in df['TEXT']]\n",
    "\n",
    "#Remove words that occur in many documents\n",
    "word_freq = defaultdict(lambda: 0)\n",
    "doc_freq = defaultdict(lambda: 0)\n",
    "\n",
    "for document in corp:\n",
    "    for (word,freq) in document:\n",
    "        word_freq[word] += freq\n",
    "    for (word,frew) in set(document):\n",
    "        doc_freq[word] += 1\n",
    "\n",
    "for key in dictionary:\n",
    "    doc_freq[key] = doc_freq[key] / len(corp)"
   ]
  },
  {
   "cell_type": "code",
   "execution_count": 16,
   "metadata": {},
   "outputs": [],
   "source": [
    "#Train the model\n",
    "lda = gensim.models.ldamulticore.LdaMulticore(corpus = corp, \n",
    "                                              id2word = dictionary, \n",
    "                                              num_topics = 25, \n",
    "                                              workers = 3,\n",
    "                                              iterations= 5000)"
   ]
  },
  {
   "cell_type": "code",
   "execution_count": 15,
   "metadata": {},
   "outputs": [
    {
     "data": {
      "text/plain": [
       "[(0,\n",
       "  '0.078*\"de\" + 0.033*\"in\" + 0.031*\"van\" + 0.028*\"het\" + 0.018*\"europese\" + 0.017*\"een\" + 0.014*\"voor\" + 0.012*\"en\" + 0.012*\"dat\" + 0.011*\"unie\"'),\n",
       " (1,\n",
       "  '0.034*\"in\" + 0.034*\"procent\" + 0.034*\"de\" + 0.017*\"dan\" + 0.014*\"van\" + 0.012*\"jaar\" + 0.008*\"euro\" + 0.008*\"vorig\" + 0.008*\"een\" + 0.007*\"met\"'),\n",
       " (2,\n",
       "  '0.044*\"de\" + 0.018*\"dat\" + 0.014*\"investeringen\" + 0.014*\"in\" + 0.012*\"van\" + 0.011*\"europese\" + 0.011*\"het\" + 0.010*\"barnier\" + 0.009*\"bij\" + 0.009*\"boeren\"'),\n",
       " (3,\n",
       "  '0.083*\"de\" + 0.028*\"het\" + 0.027*\"een\" + 0.026*\"van\" + 0.026*\"en\" + 0.019*\"is\" + 0.019*\"europese\" + 0.018*\"in\" + 0.015*\"dat\" + 0.013*\"unie\"'),\n",
       " (4,\n",
       "  '0.026*\"kok\" + 0.014*\"mierlo\" + 0.010*\"charette\" + 0.009*\"belgie\" + 0.008*\"regeringsconferentie\" + 0.007*\"helsinki\" + 0.007*\"turijn\" + 0.006*\"santer\" + 0.006*\"igc\" + 0.006*\"grootbrittannie\"'),\n",
       " (5,\n",
       "  '0.088*\"de\" + 0.041*\"van\" + 0.030*\"het\" + 0.024*\"een\" + 0.018*\"in\" + 0.016*\"is\" + 0.015*\"dat\" + 0.014*\"europese\" + 0.011*\"unie\" + 0.011*\"niet\"'),\n",
       " (6,\n",
       "  '0.011*\"weu\" + 0.010*\"de\" + 0.010*\"van\" + 0.009*\"broek\" + 0.009*\"galileo\" + 0.006*\"het\" + 0.006*\"swaan\" + 0.005*\"dat\" + 0.005*\"igc96\" + 0.005*\"hoofdkwartier\"'),\n",
       " (7,\n",
       "  '0.011*\"grootbrittannie\" + 0.010*\"broek\" + 0.009*\"weu\" + 0.008*\"finnen\" + 0.006*\"zalm\" + 0.006*\"turkse\" + 0.005*\"finse\" + 0.005*\"bosnie\" + 0.004*\"nicolai\" + 0.004*\"klaassen\"'),\n",
       " (8,\n",
       "  '0.010*\"unanimiteit\" + 0.007*\"eensgezindheid\" + 0.005*\"omvangrijke\" + 0.005*\"aanval\" + 0.003*\"wonderlijke\" + 0.003*\"rifkind\" + 0.003*\"jeltsin\" + 0.003*\"belgie\" + 0.003*\"ontworpen\" + 0.003*\"iacovou\"'),\n",
       " (9,\n",
       "  '0.036*\"de\" + 0.014*\"van\" + 0.010*\"en\" + 0.010*\"het\" + 0.007*\"grootbrittannie\" + 0.007*\"solana\" + 0.007*\"in\" + 0.006*\"een\" + 0.006*\"europese\" + 0.006*\"israel\"'),\n",
       " (10,\n",
       "  '0.090*\"de\" + 0.045*\"en\" + 0.033*\"van\" + 0.027*\"europese\" + 0.017*\"unie\" + 0.017*\"het\" + 0.016*\"in\" + 0.015*\"wij\" + 0.012*\"dat\" + 0.010*\"te\"'),\n",
       " (11,\n",
       "  '0.034*\"de\" + 0.021*\"het\" + 0.020*\"parlement\" + 0.018*\"in\" + 0.017*\"europees\" + 0.015*\"europese\" + 0.015*\"voor\" + 0.013*\"jaar\" + 0.012*\"miljard\" + 0.011*\"gisteren\"'),\n",
       " (12,\n",
       "  '0.069*\"de\" + 0.032*\"het\" + 0.029*\"een\" + 0.023*\"europese\" + 0.021*\"van\" + 0.020*\"unie\" + 0.020*\"te\" + 0.017*\"in\" + 0.014*\"is\" + 0.012*\"en\"'),\n",
       " (13,\n",
       "  '0.019*\"de\" + 0.010*\"eg\" + 0.009*\"mln\" + 0.008*\"van\" + 0.008*\"in\" + 0.007*\"weu\" + 0.007*\"eijffinger\" + 0.006*\"op\" + 0.006*\"het\" + 0.006*\"brazilie\"'),\n",
       " (14,\n",
       "  '0.008*\"kok\" + 0.006*\"chirac\" + 0.006*\"grootbrittannie\" + 0.006*\"turkse\" + 0.006*\"noordirak\" + 0.005*\"formentor\" + 0.005*\"interventie\" + 0.005*\"weu\" + 0.005*\"chiracs\" + 0.004*\"vijftien\"'),\n",
       " (15,\n",
       "  '0.053*\"de\" + 0.025*\"van\" + 0.024*\"het\" + 0.016*\"een\" + 0.016*\"en\" + 0.016*\"unie\" + 0.015*\"is\" + 0.012*\"in\" + 0.012*\"europese\" + 0.012*\"zijn\"'),\n",
       " (16,\n",
       "  '0.008*\"bosnië\" + 0.006*\"kosovo\" + 0.006*\"macedonië\" + 0.006*\"task\" + 0.005*\"chirac\" + 0.005*\"force\" + 0.005*\"diplomaat\" + 0.005*\"taak\" + 0.005*\"interventiemacht\" + 0.005*\"politiemensen\"'),\n",
       " (17,\n",
       "  '0.015*\"handvest\" + 0.012*\"papandreou\" + 0.011*\"europol\" + 0.009*\"delors\" + 0.009*\"grondrechten\" + 0.008*\"fischer\" + 0.008*\"pangalos\" + 0.007*\"nice\" + 0.006*\"athene\" + 0.006*\"macedonie\"'),\n",
       " (18,\n",
       "  '0.095*\"de\" + 0.037*\"van\" + 0.029*\"een\" + 0.025*\"het\" + 0.020*\"is\" + 0.020*\"in\" + 0.019*\"en\" + 0.016*\"unie\" + 0.014*\"dat\" + 0.013*\"voor\"'),\n",
       " (19,\n",
       "  '0.021*\"prodi\" + 0.009*\"zuercher\" + 0.008*\"solana\" + 0.007*\"andriessen\" + 0.006*\"turkse\" + 0.005*\"javier\" + 0.005*\"bush\" + 0.005*\"toetreedt\" + 0.005*\"romano\" + 0.005*\"indien\"'),\n",
       " (20,\n",
       "  '0.014*\"dehaene\" + 0.013*\"giscard\" + 0.009*\"grootbrittannie\" + 0.008*\"conventie\" + 0.006*\"destaing\" + 0.006*\"comite\" + 0.005*\"tsjechie\" + 0.005*\"madrid\" + 0.005*\"jacques\" + 0.004*\"italie\"'),\n",
       " (21,\n",
       "  '0.061*\"de\" + 0.030*\"o\" + 0.027*\"van\" + 0.025*\"in\" + 0.019*\"en\" + 0.016*\"het\" + 0.014*\"europese\" + 0.010*\"unie\" + 0.009*\"op\" + 0.009*\"niet\"'),\n",
       " (22,\n",
       "  '0.093*\"de\" + 0.049*\"van\" + 0.031*\"het\" + 0.025*\"in\" + 0.023*\"een\" + 0.022*\"europese\" + 0.021*\"en\" + 0.019*\"dat\" + 0.019*\"unie\" + 0.014*\"is\"'),\n",
       " (23,\n",
       "  '0.068*\"de\" + 0.023*\"franse\" + 0.018*\"in\" + 0.016*\"een\" + 0.016*\"frankrijk\" + 0.014*\"van\" + 0.014*\"president\" + 0.013*\"dat\" + 0.012*\"en\" + 0.011*\"europese\"'),\n",
       " (24,\n",
       "  '0.085*\"de\" + 0.043*\"van\" + 0.033*\"het\" + 0.026*\"een\" + 0.026*\"in\" + 0.024*\"europese\" + 0.022*\"en\" + 0.019*\"unie\" + 0.015*\"is\" + 0.014*\"dat\"')]"
      ]
     },
     "execution_count": 15,
     "metadata": {},
     "output_type": "execute_result"
    }
   ],
   "source": [
    "lda.print_topics(25)"
   ]
  }
 ],
 "metadata": {
  "kernelspec": {
   "display_name": "Python 3",
   "language": "python",
   "name": "python3"
  },
  "language_info": {
   "codemirror_mode": {
    "name": "ipython",
    "version": 3
   },
   "file_extension": ".py",
   "mimetype": "text/x-python",
   "name": "python",
   "nbconvert_exporter": "python",
   "pygments_lexer": "ipython3",
   "version": "3.6.3"
  }
 },
 "nbformat": 4,
 "nbformat_minor": 2
}
